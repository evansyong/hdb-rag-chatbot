{
 "cells": [
  {
   "cell_type": "code",
   "execution_count": 1,
   "id": "b9eaa35a-cca3-41b1-b5ce-bc8735ea3de2",
   "metadata": {},
   "outputs": [
    {
     "name": "stdout",
     "output_type": "stream",
     "text": [
      "Requirement already satisfied: langchain in c:\\users\\evans\\onedrive\\documents\\competitions\\national ai student challenge 2025 - huawei track\\hdb-rag-chatbot\\rag_env\\lib\\site-packages (0.3.21)\n",
      "Requirement already satisfied: chromadb in c:\\users\\evans\\onedrive\\documents\\competitions\\national ai student challenge 2025 - huawei track\\hdb-rag-chatbot\\rag_env\\lib\\site-packages (0.6.3)\n",
      "Requirement already satisfied: gradio in c:\\users\\evans\\onedrive\\documents\\competitions\\national ai student challenge 2025 - huawei track\\hdb-rag-chatbot\\rag_env\\lib\\site-packages (5.22.0)\n",
      "Requirement already satisfied: ollama in c:\\users\\evans\\onedrive\\documents\\competitions\\national ai student challenge 2025 - huawei track\\hdb-rag-chatbot\\rag_env\\lib\\site-packages (0.4.7)\n",
      "Requirement already satisfied: langchain-core<1.0.0,>=0.3.45 in c:\\users\\evans\\onedrive\\documents\\competitions\\national ai student challenge 2025 - huawei track\\hdb-rag-chatbot\\rag_env\\lib\\site-packages (from langchain) (0.3.47)\n",
      "Requirement already satisfied: langchain-text-splitters<1.0.0,>=0.3.7 in c:\\users\\evans\\onedrive\\documents\\competitions\\national ai student challenge 2025 - huawei track\\hdb-rag-chatbot\\rag_env\\lib\\site-packages (from langchain) (0.3.7)\n",
      "Requirement already satisfied: langsmith<0.4,>=0.1.17 in c:\\users\\evans\\onedrive\\documents\\competitions\\national ai student challenge 2025 - huawei track\\hdb-rag-chatbot\\rag_env\\lib\\site-packages (from langchain) (0.3.18)\n",
      "Requirement already satisfied: pydantic<3.0.0,>=2.7.4 in c:\\users\\evans\\onedrive\\documents\\competitions\\national ai student challenge 2025 - huawei track\\hdb-rag-chatbot\\rag_env\\lib\\site-packages (from langchain) (2.10.6)\n",
      "Requirement already satisfied: SQLAlchemy<3,>=1.4 in c:\\users\\evans\\onedrive\\documents\\competitions\\national ai student challenge 2025 - huawei track\\hdb-rag-chatbot\\rag_env\\lib\\site-packages (from langchain) (2.0.39)\n",
      "Requirement already satisfied: requests<3,>=2 in c:\\users\\evans\\onedrive\\documents\\competitions\\national ai student challenge 2025 - huawei track\\hdb-rag-chatbot\\rag_env\\lib\\site-packages (from langchain) (2.32.3)\n",
      "Requirement already satisfied: PyYAML>=5.3 in c:\\users\\evans\\onedrive\\documents\\competitions\\national ai student challenge 2025 - huawei track\\hdb-rag-chatbot\\rag_env\\lib\\site-packages (from langchain) (6.0.2)\n",
      "Requirement already satisfied: build>=1.0.3 in c:\\users\\evans\\onedrive\\documents\\competitions\\national ai student challenge 2025 - huawei track\\hdb-rag-chatbot\\rag_env\\lib\\site-packages (from chromadb) (1.2.2.post1)\n",
      "Requirement already satisfied: chroma-hnswlib==0.7.6 in c:\\users\\evans\\onedrive\\documents\\competitions\\national ai student challenge 2025 - huawei track\\hdb-rag-chatbot\\rag_env\\lib\\site-packages (from chromadb) (0.7.6)\n",
      "Requirement already satisfied: fastapi>=0.95.2 in c:\\users\\evans\\onedrive\\documents\\competitions\\national ai student challenge 2025 - huawei track\\hdb-rag-chatbot\\rag_env\\lib\\site-packages (from chromadb) (0.115.11)\n",
      "Requirement already satisfied: uvicorn>=0.18.3 in c:\\users\\evans\\onedrive\\documents\\competitions\\national ai student challenge 2025 - huawei track\\hdb-rag-chatbot\\rag_env\\lib\\site-packages (from uvicorn[standard]>=0.18.3->chromadb) (0.34.0)\n",
      "Requirement already satisfied: numpy>=1.22.5 in c:\\users\\evans\\onedrive\\documents\\competitions\\national ai student challenge 2025 - huawei track\\hdb-rag-chatbot\\rag_env\\lib\\site-packages (from chromadb) (2.2.4)\n",
      "Requirement already satisfied: posthog>=2.4.0 in c:\\users\\evans\\onedrive\\documents\\competitions\\national ai student challenge 2025 - huawei track\\hdb-rag-chatbot\\rag_env\\lib\\site-packages (from chromadb) (3.21.0)\n",
      "Requirement already satisfied: typing_extensions>=4.5.0 in c:\\users\\evans\\onedrive\\documents\\competitions\\national ai student challenge 2025 - huawei track\\hdb-rag-chatbot\\rag_env\\lib\\site-packages (from chromadb) (4.12.2)\n",
      "Requirement already satisfied: onnxruntime>=1.14.1 in c:\\users\\evans\\onedrive\\documents\\competitions\\national ai student challenge 2025 - huawei track\\hdb-rag-chatbot\\rag_env\\lib\\site-packages (from chromadb) (1.21.0)\n",
      "Requirement already satisfied: opentelemetry-api>=1.2.0 in c:\\users\\evans\\onedrive\\documents\\competitions\\national ai student challenge 2025 - huawei track\\hdb-rag-chatbot\\rag_env\\lib\\site-packages (from chromadb) (1.31.1)\n",
      "Requirement already satisfied: opentelemetry-exporter-otlp-proto-grpc>=1.2.0 in c:\\users\\evans\\onedrive\\documents\\competitions\\national ai student challenge 2025 - huawei track\\hdb-rag-chatbot\\rag_env\\lib\\site-packages (from chromadb) (1.31.1)\n",
      "Requirement already satisfied: opentelemetry-instrumentation-fastapi>=0.41b0 in c:\\users\\evans\\onedrive\\documents\\competitions\\national ai student challenge 2025 - huawei track\\hdb-rag-chatbot\\rag_env\\lib\\site-packages (from chromadb) (0.52b1)\n",
      "Requirement already satisfied: opentelemetry-sdk>=1.2.0 in c:\\users\\evans\\onedrive\\documents\\competitions\\national ai student challenge 2025 - huawei track\\hdb-rag-chatbot\\rag_env\\lib\\site-packages (from chromadb) (1.31.1)\n",
      "Requirement already satisfied: tokenizers>=0.13.2 in c:\\users\\evans\\onedrive\\documents\\competitions\\national ai student challenge 2025 - huawei track\\hdb-rag-chatbot\\rag_env\\lib\\site-packages (from chromadb) (0.21.1)\n",
      "Requirement already satisfied: pypika>=0.48.9 in c:\\users\\evans\\onedrive\\documents\\competitions\\national ai student challenge 2025 - huawei track\\hdb-rag-chatbot\\rag_env\\lib\\site-packages (from chromadb) (0.48.9)\n",
      "Requirement already satisfied: tqdm>=4.65.0 in c:\\users\\evans\\onedrive\\documents\\competitions\\national ai student challenge 2025 - huawei track\\hdb-rag-chatbot\\rag_env\\lib\\site-packages (from chromadb) (4.67.1)\n",
      "Requirement already satisfied: overrides>=7.3.1 in c:\\users\\evans\\onedrive\\documents\\competitions\\national ai student challenge 2025 - huawei track\\hdb-rag-chatbot\\rag_env\\lib\\site-packages (from chromadb) (7.7.0)\n",
      "Requirement already satisfied: importlib-resources in c:\\users\\evans\\onedrive\\documents\\competitions\\national ai student challenge 2025 - huawei track\\hdb-rag-chatbot\\rag_env\\lib\\site-packages (from chromadb) (6.5.2)\n",
      "Requirement already satisfied: grpcio>=1.58.0 in c:\\users\\evans\\onedrive\\documents\\competitions\\national ai student challenge 2025 - huawei track\\hdb-rag-chatbot\\rag_env\\lib\\site-packages (from chromadb) (1.71.0)\n",
      "Requirement already satisfied: bcrypt>=4.0.1 in c:\\users\\evans\\onedrive\\documents\\competitions\\national ai student challenge 2025 - huawei track\\hdb-rag-chatbot\\rag_env\\lib\\site-packages (from chromadb) (4.3.0)\n",
      "Requirement already satisfied: typer>=0.9.0 in c:\\users\\evans\\onedrive\\documents\\competitions\\national ai student challenge 2025 - huawei track\\hdb-rag-chatbot\\rag_env\\lib\\site-packages (from chromadb) (0.15.2)\n",
      "Requirement already satisfied: kubernetes>=28.1.0 in c:\\users\\evans\\onedrive\\documents\\competitions\\national ai student challenge 2025 - huawei track\\hdb-rag-chatbot\\rag_env\\lib\\site-packages (from chromadb) (32.0.1)\n",
      "Requirement already satisfied: tenacity>=8.2.3 in c:\\users\\evans\\onedrive\\documents\\competitions\\national ai student challenge 2025 - huawei track\\hdb-rag-chatbot\\rag_env\\lib\\site-packages (from chromadb) (9.0.0)\n",
      "Requirement already satisfied: mmh3>=4.0.1 in c:\\users\\evans\\onedrive\\documents\\competitions\\national ai student challenge 2025 - huawei track\\hdb-rag-chatbot\\rag_env\\lib\\site-packages (from chromadb) (5.1.0)\n",
      "Requirement already satisfied: orjson>=3.9.12 in c:\\users\\evans\\onedrive\\documents\\competitions\\national ai student challenge 2025 - huawei track\\hdb-rag-chatbot\\rag_env\\lib\\site-packages (from chromadb) (3.10.15)\n",
      "Requirement already satisfied: httpx>=0.27.0 in c:\\users\\evans\\onedrive\\documents\\competitions\\national ai student challenge 2025 - huawei track\\hdb-rag-chatbot\\rag_env\\lib\\site-packages (from chromadb) (0.28.1)\n",
      "Requirement already satisfied: rich>=10.11.0 in c:\\users\\evans\\onedrive\\documents\\competitions\\national ai student challenge 2025 - huawei track\\hdb-rag-chatbot\\rag_env\\lib\\site-packages (from chromadb) (13.9.4)\n",
      "Requirement already satisfied: aiofiles<24.0,>=22.0 in c:\\users\\evans\\onedrive\\documents\\competitions\\national ai student challenge 2025 - huawei track\\hdb-rag-chatbot\\rag_env\\lib\\site-packages (from gradio) (23.2.1)\n",
      "Requirement already satisfied: anyio<5.0,>=3.0 in c:\\users\\evans\\onedrive\\documents\\competitions\\national ai student challenge 2025 - huawei track\\hdb-rag-chatbot\\rag_env\\lib\\site-packages (from gradio) (4.9.0)\n",
      "Requirement already satisfied: ffmpy in c:\\users\\evans\\onedrive\\documents\\competitions\\national ai student challenge 2025 - huawei track\\hdb-rag-chatbot\\rag_env\\lib\\site-packages (from gradio) (0.5.0)\n",
      "Requirement already satisfied: gradio-client==1.8.0 in c:\\users\\evans\\onedrive\\documents\\competitions\\national ai student challenge 2025 - huawei track\\hdb-rag-chatbot\\rag_env\\lib\\site-packages (from gradio) (1.8.0)\n",
      "Requirement already satisfied: groovy~=0.1 in c:\\users\\evans\\onedrive\\documents\\competitions\\national ai student challenge 2025 - huawei track\\hdb-rag-chatbot\\rag_env\\lib\\site-packages (from gradio) (0.1.2)\n",
      "Requirement already satisfied: huggingface-hub>=0.28.1 in c:\\users\\evans\\onedrive\\documents\\competitions\\national ai student challenge 2025 - huawei track\\hdb-rag-chatbot\\rag_env\\lib\\site-packages (from gradio) (0.29.3)\n",
      "Requirement already satisfied: jinja2<4.0 in c:\\users\\evans\\onedrive\\documents\\competitions\\national ai student challenge 2025 - huawei track\\hdb-rag-chatbot\\rag_env\\lib\\site-packages (from gradio) (3.1.6)\n",
      "Requirement already satisfied: markupsafe<4.0,>=2.0 in c:\\users\\evans\\onedrive\\documents\\competitions\\national ai student challenge 2025 - huawei track\\hdb-rag-chatbot\\rag_env\\lib\\site-packages (from gradio) (3.0.2)\n",
      "Requirement already satisfied: packaging in c:\\users\\evans\\onedrive\\documents\\competitions\\national ai student challenge 2025 - huawei track\\hdb-rag-chatbot\\rag_env\\lib\\site-packages (from gradio) (24.2)\n",
      "Requirement already satisfied: pandas<3.0,>=1.0 in c:\\users\\evans\\onedrive\\documents\\competitions\\national ai student challenge 2025 - huawei track\\hdb-rag-chatbot\\rag_env\\lib\\site-packages (from gradio) (2.2.3)\n",
      "Requirement already satisfied: pillow<12.0,>=8.0 in c:\\users\\evans\\onedrive\\documents\\competitions\\national ai student challenge 2025 - huawei track\\hdb-rag-chatbot\\rag_env\\lib\\site-packages (from gradio) (11.1.0)\n",
      "Requirement already satisfied: pydub in c:\\users\\evans\\onedrive\\documents\\competitions\\national ai student challenge 2025 - huawei track\\hdb-rag-chatbot\\rag_env\\lib\\site-packages (from gradio) (0.25.1)\n",
      "Requirement already satisfied: python-multipart>=0.0.18 in c:\\users\\evans\\onedrive\\documents\\competitions\\national ai student challenge 2025 - huawei track\\hdb-rag-chatbot\\rag_env\\lib\\site-packages (from gradio) (0.0.20)\n",
      "Requirement already satisfied: ruff>=0.9.3 in c:\\users\\evans\\onedrive\\documents\\competitions\\national ai student challenge 2025 - huawei track\\hdb-rag-chatbot\\rag_env\\lib\\site-packages (from gradio) (0.11.2)\n",
      "Requirement already satisfied: safehttpx<0.2.0,>=0.1.6 in c:\\users\\evans\\onedrive\\documents\\competitions\\national ai student challenge 2025 - huawei track\\hdb-rag-chatbot\\rag_env\\lib\\site-packages (from gradio) (0.1.6)\n",
      "Requirement already satisfied: semantic-version~=2.0 in c:\\users\\evans\\onedrive\\documents\\competitions\\national ai student challenge 2025 - huawei track\\hdb-rag-chatbot\\rag_env\\lib\\site-packages (from gradio) (2.10.0)\n",
      "Requirement already satisfied: starlette<1.0,>=0.40.0 in c:\\users\\evans\\onedrive\\documents\\competitions\\national ai student challenge 2025 - huawei track\\hdb-rag-chatbot\\rag_env\\lib\\site-packages (from gradio) (0.46.1)\n",
      "Requirement already satisfied: tomlkit<0.14.0,>=0.12.0 in c:\\users\\evans\\onedrive\\documents\\competitions\\national ai student challenge 2025 - huawei track\\hdb-rag-chatbot\\rag_env\\lib\\site-packages (from gradio) (0.13.2)\n",
      "Requirement already satisfied: fsspec in c:\\users\\evans\\onedrive\\documents\\competitions\\national ai student challenge 2025 - huawei track\\hdb-rag-chatbot\\rag_env\\lib\\site-packages (from gradio-client==1.8.0->gradio) (2025.3.0)\n",
      "Requirement already satisfied: websockets<16.0,>=10.0 in c:\\users\\evans\\onedrive\\documents\\competitions\\national ai student challenge 2025 - huawei track\\hdb-rag-chatbot\\rag_env\\lib\\site-packages (from gradio-client==1.8.0->gradio) (15.0.1)\n",
      "Requirement already satisfied: idna>=2.8 in c:\\users\\evans\\onedrive\\documents\\competitions\\national ai student challenge 2025 - huawei track\\hdb-rag-chatbot\\rag_env\\lib\\site-packages (from anyio<5.0,>=3.0->gradio) (3.10)\n",
      "Requirement already satisfied: sniffio>=1.1 in c:\\users\\evans\\onedrive\\documents\\competitions\\national ai student challenge 2025 - huawei track\\hdb-rag-chatbot\\rag_env\\lib\\site-packages (from anyio<5.0,>=3.0->gradio) (1.3.1)\n",
      "Requirement already satisfied: pyproject_hooks in c:\\users\\evans\\onedrive\\documents\\competitions\\national ai student challenge 2025 - huawei track\\hdb-rag-chatbot\\rag_env\\lib\\site-packages (from build>=1.0.3->chromadb) (1.2.0)\n",
      "Requirement already satisfied: colorama in c:\\users\\evans\\onedrive\\documents\\competitions\\national ai student challenge 2025 - huawei track\\hdb-rag-chatbot\\rag_env\\lib\\site-packages (from build>=1.0.3->chromadb) (0.4.6)\n",
      "Requirement already satisfied: certifi in c:\\users\\evans\\onedrive\\documents\\competitions\\national ai student challenge 2025 - huawei track\\hdb-rag-chatbot\\rag_env\\lib\\site-packages (from httpx>=0.27.0->chromadb) (2025.1.31)\n",
      "Requirement already satisfied: httpcore==1.* in c:\\users\\evans\\onedrive\\documents\\competitions\\national ai student challenge 2025 - huawei track\\hdb-rag-chatbot\\rag_env\\lib\\site-packages (from httpx>=0.27.0->chromadb) (1.0.7)\n",
      "Requirement already satisfied: h11<0.15,>=0.13 in c:\\users\\evans\\onedrive\\documents\\competitions\\national ai student challenge 2025 - huawei track\\hdb-rag-chatbot\\rag_env\\lib\\site-packages (from httpcore==1.*->httpx>=0.27.0->chromadb) (0.14.0)\n",
      "Requirement already satisfied: filelock in c:\\users\\evans\\onedrive\\documents\\competitions\\national ai student challenge 2025 - huawei track\\hdb-rag-chatbot\\rag_env\\lib\\site-packages (from huggingface-hub>=0.28.1->gradio) (3.18.0)\n",
      "Requirement already satisfied: six>=1.9.0 in c:\\users\\evans\\onedrive\\documents\\competitions\\national ai student challenge 2025 - huawei track\\hdb-rag-chatbot\\rag_env\\lib\\site-packages (from kubernetes>=28.1.0->chromadb) (1.17.0)\n",
      "Requirement already satisfied: python-dateutil>=2.5.3 in c:\\users\\evans\\onedrive\\documents\\competitions\\national ai student challenge 2025 - huawei track\\hdb-rag-chatbot\\rag_env\\lib\\site-packages (from kubernetes>=28.1.0->chromadb) (2.9.0.post0)\n",
      "Requirement already satisfied: google-auth>=1.0.1 in c:\\users\\evans\\onedrive\\documents\\competitions\\national ai student challenge 2025 - huawei track\\hdb-rag-chatbot\\rag_env\\lib\\site-packages (from kubernetes>=28.1.0->chromadb) (2.38.0)\n",
      "Requirement already satisfied: websocket-client!=0.40.0,!=0.41.*,!=0.42.*,>=0.32.0 in c:\\users\\evans\\onedrive\\documents\\competitions\\national ai student challenge 2025 - huawei track\\hdb-rag-chatbot\\rag_env\\lib\\site-packages (from kubernetes>=28.1.0->chromadb) (1.8.0)\n",
      "Requirement already satisfied: requests-oauthlib in c:\\users\\evans\\onedrive\\documents\\competitions\\national ai student challenge 2025 - huawei track\\hdb-rag-chatbot\\rag_env\\lib\\site-packages (from kubernetes>=28.1.0->chromadb) (2.0.0)\n",
      "Requirement already satisfied: oauthlib>=3.2.2 in c:\\users\\evans\\onedrive\\documents\\competitions\\national ai student challenge 2025 - huawei track\\hdb-rag-chatbot\\rag_env\\lib\\site-packages (from kubernetes>=28.1.0->chromadb) (3.2.2)\n",
      "Requirement already satisfied: urllib3>=1.24.2 in c:\\users\\evans\\onedrive\\documents\\competitions\\national ai student challenge 2025 - huawei track\\hdb-rag-chatbot\\rag_env\\lib\\site-packages (from kubernetes>=28.1.0->chromadb) (2.3.0)\n",
      "Requirement already satisfied: durationpy>=0.7 in c:\\users\\evans\\onedrive\\documents\\competitions\\national ai student challenge 2025 - huawei track\\hdb-rag-chatbot\\rag_env\\lib\\site-packages (from kubernetes>=28.1.0->chromadb) (0.9)\n",
      "Requirement already satisfied: jsonpatch<2.0,>=1.33 in c:\\users\\evans\\onedrive\\documents\\competitions\\national ai student challenge 2025 - huawei track\\hdb-rag-chatbot\\rag_env\\lib\\site-packages (from langchain-core<1.0.0,>=0.3.45->langchain) (1.33)\n",
      "Requirement already satisfied: requests-toolbelt<2.0.0,>=1.0.0 in c:\\users\\evans\\onedrive\\documents\\competitions\\national ai student challenge 2025 - huawei track\\hdb-rag-chatbot\\rag_env\\lib\\site-packages (from langsmith<0.4,>=0.1.17->langchain) (1.0.0)\n",
      "Requirement already satisfied: zstandard<0.24.0,>=0.23.0 in c:\\users\\evans\\onedrive\\documents\\competitions\\national ai student challenge 2025 - huawei track\\hdb-rag-chatbot\\rag_env\\lib\\site-packages (from langsmith<0.4,>=0.1.17->langchain) (0.23.0)\n",
      "Requirement already satisfied: coloredlogs in c:\\users\\evans\\onedrive\\documents\\competitions\\national ai student challenge 2025 - huawei track\\hdb-rag-chatbot\\rag_env\\lib\\site-packages (from onnxruntime>=1.14.1->chromadb) (15.0.1)\n",
      "Requirement already satisfied: flatbuffers in c:\\users\\evans\\onedrive\\documents\\competitions\\national ai student challenge 2025 - huawei track\\hdb-rag-chatbot\\rag_env\\lib\\site-packages (from onnxruntime>=1.14.1->chromadb) (25.2.10)\n",
      "Requirement already satisfied: protobuf in c:\\users\\evans\\onedrive\\documents\\competitions\\national ai student challenge 2025 - huawei track\\hdb-rag-chatbot\\rag_env\\lib\\site-packages (from onnxruntime>=1.14.1->chromadb) (5.29.4)\n",
      "Requirement already satisfied: sympy in c:\\users\\evans\\onedrive\\documents\\competitions\\national ai student challenge 2025 - huawei track\\hdb-rag-chatbot\\rag_env\\lib\\site-packages (from onnxruntime>=1.14.1->chromadb) (1.13.3)\n",
      "Requirement already satisfied: deprecated>=1.2.6 in c:\\users\\evans\\onedrive\\documents\\competitions\\national ai student challenge 2025 - huawei track\\hdb-rag-chatbot\\rag_env\\lib\\site-packages (from opentelemetry-api>=1.2.0->chromadb) (1.2.18)\n",
      "Requirement already satisfied: importlib-metadata<8.7.0,>=6.0 in c:\\users\\evans\\onedrive\\documents\\competitions\\national ai student challenge 2025 - huawei track\\hdb-rag-chatbot\\rag_env\\lib\\site-packages (from opentelemetry-api>=1.2.0->chromadb) (8.6.1)\n",
      "Requirement already satisfied: googleapis-common-protos~=1.52 in c:\\users\\evans\\onedrive\\documents\\competitions\\national ai student challenge 2025 - huawei track\\hdb-rag-chatbot\\rag_env\\lib\\site-packages (from opentelemetry-exporter-otlp-proto-grpc>=1.2.0->chromadb) (1.69.2)\n",
      "Requirement already satisfied: opentelemetry-exporter-otlp-proto-common==1.31.1 in c:\\users\\evans\\onedrive\\documents\\competitions\\national ai student challenge 2025 - huawei track\\hdb-rag-chatbot\\rag_env\\lib\\site-packages (from opentelemetry-exporter-otlp-proto-grpc>=1.2.0->chromadb) (1.31.1)\n",
      "Requirement already satisfied: opentelemetry-proto==1.31.1 in c:\\users\\evans\\onedrive\\documents\\competitions\\national ai student challenge 2025 - huawei track\\hdb-rag-chatbot\\rag_env\\lib\\site-packages (from opentelemetry-exporter-otlp-proto-grpc>=1.2.0->chromadb) (1.31.1)\n",
      "Requirement already satisfied: opentelemetry-instrumentation-asgi==0.52b1 in c:\\users\\evans\\onedrive\\documents\\competitions\\national ai student challenge 2025 - huawei track\\hdb-rag-chatbot\\rag_env\\lib\\site-packages (from opentelemetry-instrumentation-fastapi>=0.41b0->chromadb) (0.52b1)\n",
      "Requirement already satisfied: opentelemetry-instrumentation==0.52b1 in c:\\users\\evans\\onedrive\\documents\\competitions\\national ai student challenge 2025 - huawei track\\hdb-rag-chatbot\\rag_env\\lib\\site-packages (from opentelemetry-instrumentation-fastapi>=0.41b0->chromadb) (0.52b1)\n",
      "Requirement already satisfied: opentelemetry-semantic-conventions==0.52b1 in c:\\users\\evans\\onedrive\\documents\\competitions\\national ai student challenge 2025 - huawei track\\hdb-rag-chatbot\\rag_env\\lib\\site-packages (from opentelemetry-instrumentation-fastapi>=0.41b0->chromadb) (0.52b1)\n",
      "Requirement already satisfied: opentelemetry-util-http==0.52b1 in c:\\users\\evans\\onedrive\\documents\\competitions\\national ai student challenge 2025 - huawei track\\hdb-rag-chatbot\\rag_env\\lib\\site-packages (from opentelemetry-instrumentation-fastapi>=0.41b0->chromadb) (0.52b1)\n",
      "Requirement already satisfied: wrapt<2.0.0,>=1.0.0 in c:\\users\\evans\\onedrive\\documents\\competitions\\national ai student challenge 2025 - huawei track\\hdb-rag-chatbot\\rag_env\\lib\\site-packages (from opentelemetry-instrumentation==0.52b1->opentelemetry-instrumentation-fastapi>=0.41b0->chromadb) (1.17.2)\n",
      "Requirement already satisfied: asgiref~=3.0 in c:\\users\\evans\\onedrive\\documents\\competitions\\national ai student challenge 2025 - huawei track\\hdb-rag-chatbot\\rag_env\\lib\\site-packages (from opentelemetry-instrumentation-asgi==0.52b1->opentelemetry-instrumentation-fastapi>=0.41b0->chromadb) (3.8.1)\n",
      "Requirement already satisfied: pytz>=2020.1 in c:\\users\\evans\\onedrive\\documents\\competitions\\national ai student challenge 2025 - huawei track\\hdb-rag-chatbot\\rag_env\\lib\\site-packages (from pandas<3.0,>=1.0->gradio) (2025.1)\n",
      "Requirement already satisfied: tzdata>=2022.7 in c:\\users\\evans\\onedrive\\documents\\competitions\\national ai student challenge 2025 - huawei track\\hdb-rag-chatbot\\rag_env\\lib\\site-packages (from pandas<3.0,>=1.0->gradio) (2025.1)\n",
      "Requirement already satisfied: monotonic>=1.5 in c:\\users\\evans\\onedrive\\documents\\competitions\\national ai student challenge 2025 - huawei track\\hdb-rag-chatbot\\rag_env\\lib\\site-packages (from posthog>=2.4.0->chromadb) (1.6)\n",
      "Requirement already satisfied: backoff>=1.10.0 in c:\\users\\evans\\onedrive\\documents\\competitions\\national ai student challenge 2025 - huawei track\\hdb-rag-chatbot\\rag_env\\lib\\site-packages (from posthog>=2.4.0->chromadb) (2.2.1)\n",
      "Requirement already satisfied: distro>=1.5.0 in c:\\users\\evans\\onedrive\\documents\\competitions\\national ai student challenge 2025 - huawei track\\hdb-rag-chatbot\\rag_env\\lib\\site-packages (from posthog>=2.4.0->chromadb) (1.9.0)\n",
      "Requirement already satisfied: annotated-types>=0.6.0 in c:\\users\\evans\\onedrive\\documents\\competitions\\national ai student challenge 2025 - huawei track\\hdb-rag-chatbot\\rag_env\\lib\\site-packages (from pydantic<3.0.0,>=2.7.4->langchain) (0.7.0)\n",
      "Requirement already satisfied: pydantic-core==2.27.2 in c:\\users\\evans\\onedrive\\documents\\competitions\\national ai student challenge 2025 - huawei track\\hdb-rag-chatbot\\rag_env\\lib\\site-packages (from pydantic<3.0.0,>=2.7.4->langchain) (2.27.2)\n",
      "Requirement already satisfied: charset-normalizer<4,>=2 in c:\\users\\evans\\onedrive\\documents\\competitions\\national ai student challenge 2025 - huawei track\\hdb-rag-chatbot\\rag_env\\lib\\site-packages (from requests<3,>=2->langchain) (3.4.1)\n",
      "Requirement already satisfied: markdown-it-py>=2.2.0 in c:\\users\\evans\\onedrive\\documents\\competitions\\national ai student challenge 2025 - huawei track\\hdb-rag-chatbot\\rag_env\\lib\\site-packages (from rich>=10.11.0->chromadb) (3.0.0)\n",
      "Requirement already satisfied: pygments<3.0.0,>=2.13.0 in c:\\users\\evans\\onedrive\\documents\\competitions\\national ai student challenge 2025 - huawei track\\hdb-rag-chatbot\\rag_env\\lib\\site-packages (from rich>=10.11.0->chromadb) (2.19.1)\n",
      "Requirement already satisfied: greenlet!=0.4.17 in c:\\users\\evans\\onedrive\\documents\\competitions\\national ai student challenge 2025 - huawei track\\hdb-rag-chatbot\\rag_env\\lib\\site-packages (from SQLAlchemy<3,>=1.4->langchain) (3.1.1)\n",
      "Requirement already satisfied: click>=8.0.0 in c:\\users\\evans\\onedrive\\documents\\competitions\\national ai student challenge 2025 - huawei track\\hdb-rag-chatbot\\rag_env\\lib\\site-packages (from typer>=0.9.0->chromadb) (8.1.8)\n",
      "Requirement already satisfied: shellingham>=1.3.0 in c:\\users\\evans\\onedrive\\documents\\competitions\\national ai student challenge 2025 - huawei track\\hdb-rag-chatbot\\rag_env\\lib\\site-packages (from typer>=0.9.0->chromadb) (1.5.4)\n",
      "Requirement already satisfied: httptools>=0.6.3 in c:\\users\\evans\\onedrive\\documents\\competitions\\national ai student challenge 2025 - huawei track\\hdb-rag-chatbot\\rag_env\\lib\\site-packages (from uvicorn[standard]>=0.18.3->chromadb) (0.6.4)\n",
      "Requirement already satisfied: python-dotenv>=0.13 in c:\\users\\evans\\onedrive\\documents\\competitions\\national ai student challenge 2025 - huawei track\\hdb-rag-chatbot\\rag_env\\lib\\site-packages (from uvicorn[standard]>=0.18.3->chromadb) (1.0.1)\n",
      "Requirement already satisfied: watchfiles>=0.13 in c:\\users\\evans\\onedrive\\documents\\competitions\\national ai student challenge 2025 - huawei track\\hdb-rag-chatbot\\rag_env\\lib\\site-packages (from uvicorn[standard]>=0.18.3->chromadb) (1.0.4)\n",
      "Requirement already satisfied: cachetools<6.0,>=2.0.0 in c:\\users\\evans\\onedrive\\documents\\competitions\\national ai student challenge 2025 - huawei track\\hdb-rag-chatbot\\rag_env\\lib\\site-packages (from google-auth>=1.0.1->kubernetes>=28.1.0->chromadb) (5.5.2)\n",
      "Requirement already satisfied: pyasn1-modules>=0.2.1 in c:\\users\\evans\\onedrive\\documents\\competitions\\national ai student challenge 2025 - huawei track\\hdb-rag-chatbot\\rag_env\\lib\\site-packages (from google-auth>=1.0.1->kubernetes>=28.1.0->chromadb) (0.4.1)\n",
      "Requirement already satisfied: rsa<5,>=3.1.4 in c:\\users\\evans\\onedrive\\documents\\competitions\\national ai student challenge 2025 - huawei track\\hdb-rag-chatbot\\rag_env\\lib\\site-packages (from google-auth>=1.0.1->kubernetes>=28.1.0->chromadb) (4.9)\n",
      "Requirement already satisfied: zipp>=3.20 in c:\\users\\evans\\onedrive\\documents\\competitions\\national ai student challenge 2025 - huawei track\\hdb-rag-chatbot\\rag_env\\lib\\site-packages (from importlib-metadata<8.7.0,>=6.0->opentelemetry-api>=1.2.0->chromadb) (3.21.0)\n",
      "Requirement already satisfied: jsonpointer>=1.9 in c:\\users\\evans\\onedrive\\documents\\competitions\\national ai student challenge 2025 - huawei track\\hdb-rag-chatbot\\rag_env\\lib\\site-packages (from jsonpatch<2.0,>=1.33->langchain-core<1.0.0,>=0.3.45->langchain) (3.0.0)\n",
      "Requirement already satisfied: mdurl~=0.1 in c:\\users\\evans\\onedrive\\documents\\competitions\\national ai student challenge 2025 - huawei track\\hdb-rag-chatbot\\rag_env\\lib\\site-packages (from markdown-it-py>=2.2.0->rich>=10.11.0->chromadb) (0.1.2)\n",
      "Requirement already satisfied: humanfriendly>=9.1 in c:\\users\\evans\\onedrive\\documents\\competitions\\national ai student challenge 2025 - huawei track\\hdb-rag-chatbot\\rag_env\\lib\\site-packages (from coloredlogs->onnxruntime>=1.14.1->chromadb) (10.0)\n",
      "Requirement already satisfied: mpmath<1.4,>=1.1.0 in c:\\users\\evans\\onedrive\\documents\\competitions\\national ai student challenge 2025 - huawei track\\hdb-rag-chatbot\\rag_env\\lib\\site-packages (from sympy->onnxruntime>=1.14.1->chromadb) (1.3.0)\n",
      "Requirement already satisfied: pyreadline3 in c:\\users\\evans\\onedrive\\documents\\competitions\\national ai student challenge 2025 - huawei track\\hdb-rag-chatbot\\rag_env\\lib\\site-packages (from humanfriendly>=9.1->coloredlogs->onnxruntime>=1.14.1->chromadb) (3.5.4)\n",
      "Requirement already satisfied: pyasn1<0.7.0,>=0.4.6 in c:\\users\\evans\\onedrive\\documents\\competitions\\national ai student challenge 2025 - huawei track\\hdb-rag-chatbot\\rag_env\\lib\\site-packages (from pyasn1-modules>=0.2.1->google-auth>=1.0.1->kubernetes>=28.1.0->chromadb) (0.6.1)\n"
     ]
    },
    {
     "name": "stderr",
     "output_type": "stream",
     "text": [
      "\n",
      "[notice] A new release of pip is available: 24.3.1 -> 25.0.1\n",
      "[notice] To update, run: python.exe -m pip install --upgrade pip\n"
     ]
    },
    {
     "name": "stdout",
     "output_type": "stream",
     "text": [
      "Requirement already satisfied: langchain-community in c:\\users\\evans\\onedrive\\documents\\competitions\\national ai student challenge 2025 - huawei track\\hdb-rag-chatbot\\rag_env\\lib\\site-packages (0.3.20)\n",
      "Requirement already satisfied: langchain-core<1.0.0,>=0.3.45 in c:\\users\\evans\\onedrive\\documents\\competitions\\national ai student challenge 2025 - huawei track\\hdb-rag-chatbot\\rag_env\\lib\\site-packages (from langchain-community) (0.3.47)\n",
      "Requirement already satisfied: langchain<1.0.0,>=0.3.21 in c:\\users\\evans\\onedrive\\documents\\competitions\\national ai student challenge 2025 - huawei track\\hdb-rag-chatbot\\rag_env\\lib\\site-packages (from langchain-community) (0.3.21)\n",
      "Requirement already satisfied: SQLAlchemy<3,>=1.4 in c:\\users\\evans\\onedrive\\documents\\competitions\\national ai student challenge 2025 - huawei track\\hdb-rag-chatbot\\rag_env\\lib\\site-packages (from langchain-community) (2.0.39)\n",
      "Requirement already satisfied: requests<3,>=2 in c:\\users\\evans\\onedrive\\documents\\competitions\\national ai student challenge 2025 - huawei track\\hdb-rag-chatbot\\rag_env\\lib\\site-packages (from langchain-community) (2.32.3)\n",
      "Requirement already satisfied: PyYAML>=5.3 in c:\\users\\evans\\onedrive\\documents\\competitions\\national ai student challenge 2025 - huawei track\\hdb-rag-chatbot\\rag_env\\lib\\site-packages (from langchain-community) (6.0.2)\n",
      "Requirement already satisfied: aiohttp<4.0.0,>=3.8.3 in c:\\users\\evans\\onedrive\\documents\\competitions\\national ai student challenge 2025 - huawei track\\hdb-rag-chatbot\\rag_env\\lib\\site-packages (from langchain-community) (3.11.14)\n",
      "Requirement already satisfied: tenacity!=8.4.0,<10,>=8.1.0 in c:\\users\\evans\\onedrive\\documents\\competitions\\national ai student challenge 2025 - huawei track\\hdb-rag-chatbot\\rag_env\\lib\\site-packages (from langchain-community) (9.0.0)\n",
      "Requirement already satisfied: dataclasses-json<0.7,>=0.5.7 in c:\\users\\evans\\onedrive\\documents\\competitions\\national ai student challenge 2025 - huawei track\\hdb-rag-chatbot\\rag_env\\lib\\site-packages (from langchain-community) (0.6.7)\n",
      "Requirement already satisfied: pydantic-settings<3.0.0,>=2.4.0 in c:\\users\\evans\\onedrive\\documents\\competitions\\national ai student challenge 2025 - huawei track\\hdb-rag-chatbot\\rag_env\\lib\\site-packages (from langchain-community) (2.8.1)\n",
      "Requirement already satisfied: langsmith<0.4,>=0.1.125 in c:\\users\\evans\\onedrive\\documents\\competitions\\national ai student challenge 2025 - huawei track\\hdb-rag-chatbot\\rag_env\\lib\\site-packages (from langchain-community) (0.3.18)\n",
      "Requirement already satisfied: httpx-sse<1.0.0,>=0.4.0 in c:\\users\\evans\\onedrive\\documents\\competitions\\national ai student challenge 2025 - huawei track\\hdb-rag-chatbot\\rag_env\\lib\\site-packages (from langchain-community) (0.4.0)\n",
      "Requirement already satisfied: numpy<3,>=1.26.2 in c:\\users\\evans\\onedrive\\documents\\competitions\\national ai student challenge 2025 - huawei track\\hdb-rag-chatbot\\rag_env\\lib\\site-packages (from langchain-community) (2.2.4)\n",
      "Requirement already satisfied: aiohappyeyeballs>=2.3.0 in c:\\users\\evans\\onedrive\\documents\\competitions\\national ai student challenge 2025 - huawei track\\hdb-rag-chatbot\\rag_env\\lib\\site-packages (from aiohttp<4.0.0,>=3.8.3->langchain-community) (2.6.1)\n",
      "Requirement already satisfied: aiosignal>=1.1.2 in c:\\users\\evans\\onedrive\\documents\\competitions\\national ai student challenge 2025 - huawei track\\hdb-rag-chatbot\\rag_env\\lib\\site-packages (from aiohttp<4.0.0,>=3.8.3->langchain-community) (1.3.2)\n",
      "Requirement already satisfied: attrs>=17.3.0 in c:\\users\\evans\\onedrive\\documents\\competitions\\national ai student challenge 2025 - huawei track\\hdb-rag-chatbot\\rag_env\\lib\\site-packages (from aiohttp<4.0.0,>=3.8.3->langchain-community) (25.3.0)\n",
      "Requirement already satisfied: frozenlist>=1.1.1 in c:\\users\\evans\\onedrive\\documents\\competitions\\national ai student challenge 2025 - huawei track\\hdb-rag-chatbot\\rag_env\\lib\\site-packages (from aiohttp<4.0.0,>=3.8.3->langchain-community) (1.5.0)\n",
      "Requirement already satisfied: multidict<7.0,>=4.5 in c:\\users\\evans\\onedrive\\documents\\competitions\\national ai student challenge 2025 - huawei track\\hdb-rag-chatbot\\rag_env\\lib\\site-packages (from aiohttp<4.0.0,>=3.8.3->langchain-community) (6.2.0)\n",
      "Requirement already satisfied: propcache>=0.2.0 in c:\\users\\evans\\onedrive\\documents\\competitions\\national ai student challenge 2025 - huawei track\\hdb-rag-chatbot\\rag_env\\lib\\site-packages (from aiohttp<4.0.0,>=3.8.3->langchain-community) (0.3.0)\n",
      "Requirement already satisfied: yarl<2.0,>=1.17.0 in c:\\users\\evans\\onedrive\\documents\\competitions\\national ai student challenge 2025 - huawei track\\hdb-rag-chatbot\\rag_env\\lib\\site-packages (from aiohttp<4.0.0,>=3.8.3->langchain-community) (1.18.3)\n",
      "Requirement already satisfied: marshmallow<4.0.0,>=3.18.0 in c:\\users\\evans\\onedrive\\documents\\competitions\\national ai student challenge 2025 - huawei track\\hdb-rag-chatbot\\rag_env\\lib\\site-packages (from dataclasses-json<0.7,>=0.5.7->langchain-community) (3.26.1)\n",
      "Requirement already satisfied: typing-inspect<1,>=0.4.0 in c:\\users\\evans\\onedrive\\documents\\competitions\\national ai student challenge 2025 - huawei track\\hdb-rag-chatbot\\rag_env\\lib\\site-packages (from dataclasses-json<0.7,>=0.5.7->langchain-community) (0.9.0)\n",
      "Requirement already satisfied: langchain-text-splitters<1.0.0,>=0.3.7 in c:\\users\\evans\\onedrive\\documents\\competitions\\national ai student challenge 2025 - huawei track\\hdb-rag-chatbot\\rag_env\\lib\\site-packages (from langchain<1.0.0,>=0.3.21->langchain-community) (0.3.7)\n",
      "Requirement already satisfied: pydantic<3.0.0,>=2.7.4 in c:\\users\\evans\\onedrive\\documents\\competitions\\national ai student challenge 2025 - huawei track\\hdb-rag-chatbot\\rag_env\\lib\\site-packages (from langchain<1.0.0,>=0.3.21->langchain-community) (2.10.6)\n",
      "Requirement already satisfied: jsonpatch<2.0,>=1.33 in c:\\users\\evans\\onedrive\\documents\\competitions\\national ai student challenge 2025 - huawei track\\hdb-rag-chatbot\\rag_env\\lib\\site-packages (from langchain-core<1.0.0,>=0.3.45->langchain-community) (1.33)\n",
      "Requirement already satisfied: packaging<25,>=23.2 in c:\\users\\evans\\onedrive\\documents\\competitions\\national ai student challenge 2025 - huawei track\\hdb-rag-chatbot\\rag_env\\lib\\site-packages (from langchain-core<1.0.0,>=0.3.45->langchain-community) (24.2)\n",
      "Requirement already satisfied: typing-extensions>=4.7 in c:\\users\\evans\\onedrive\\documents\\competitions\\national ai student challenge 2025 - huawei track\\hdb-rag-chatbot\\rag_env\\lib\\site-packages (from langchain-core<1.0.0,>=0.3.45->langchain-community) (4.12.2)\n",
      "Requirement already satisfied: httpx<1,>=0.23.0 in c:\\users\\evans\\onedrive\\documents\\competitions\\national ai student challenge 2025 - huawei track\\hdb-rag-chatbot\\rag_env\\lib\\site-packages (from langsmith<0.4,>=0.1.125->langchain-community) (0.28.1)\n",
      "Requirement already satisfied: orjson<4.0.0,>=3.9.14 in c:\\users\\evans\\onedrive\\documents\\competitions\\national ai student challenge 2025 - huawei track\\hdb-rag-chatbot\\rag_env\\lib\\site-packages (from langsmith<0.4,>=0.1.125->langchain-community) (3.10.15)\n",
      "Requirement already satisfied: requests-toolbelt<2.0.0,>=1.0.0 in c:\\users\\evans\\onedrive\\documents\\competitions\\national ai student challenge 2025 - huawei track\\hdb-rag-chatbot\\rag_env\\lib\\site-packages (from langsmith<0.4,>=0.1.125->langchain-community) (1.0.0)\n",
      "Requirement already satisfied: zstandard<0.24.0,>=0.23.0 in c:\\users\\evans\\onedrive\\documents\\competitions\\national ai student challenge 2025 - huawei track\\hdb-rag-chatbot\\rag_env\\lib\\site-packages (from langsmith<0.4,>=0.1.125->langchain-community) (0.23.0)\n",
      "Requirement already satisfied: python-dotenv>=0.21.0 in c:\\users\\evans\\onedrive\\documents\\competitions\\national ai student challenge 2025 - huawei track\\hdb-rag-chatbot\\rag_env\\lib\\site-packages (from pydantic-settings<3.0.0,>=2.4.0->langchain-community) (1.0.1)\n",
      "Requirement already satisfied: charset-normalizer<4,>=2 in c:\\users\\evans\\onedrive\\documents\\competitions\\national ai student challenge 2025 - huawei track\\hdb-rag-chatbot\\rag_env\\lib\\site-packages (from requests<3,>=2->langchain-community) (3.4.1)\n",
      "Requirement already satisfied: idna<4,>=2.5 in c:\\users\\evans\\onedrive\\documents\\competitions\\national ai student challenge 2025 - huawei track\\hdb-rag-chatbot\\rag_env\\lib\\site-packages (from requests<3,>=2->langchain-community) (3.10)\n",
      "Requirement already satisfied: urllib3<3,>=1.21.1 in c:\\users\\evans\\onedrive\\documents\\competitions\\national ai student challenge 2025 - huawei track\\hdb-rag-chatbot\\rag_env\\lib\\site-packages (from requests<3,>=2->langchain-community) (2.3.0)\n",
      "Requirement already satisfied: certifi>=2017.4.17 in c:\\users\\evans\\onedrive\\documents\\competitions\\national ai student challenge 2025 - huawei track\\hdb-rag-chatbot\\rag_env\\lib\\site-packages (from requests<3,>=2->langchain-community) (2025.1.31)\n",
      "Requirement already satisfied: greenlet!=0.4.17 in c:\\users\\evans\\onedrive\\documents\\competitions\\national ai student challenge 2025 - huawei track\\hdb-rag-chatbot\\rag_env\\lib\\site-packages (from SQLAlchemy<3,>=1.4->langchain-community) (3.1.1)\n",
      "Requirement already satisfied: anyio in c:\\users\\evans\\onedrive\\documents\\competitions\\national ai student challenge 2025 - huawei track\\hdb-rag-chatbot\\rag_env\\lib\\site-packages (from httpx<1,>=0.23.0->langsmith<0.4,>=0.1.125->langchain-community) (4.9.0)\n",
      "Requirement already satisfied: httpcore==1.* in c:\\users\\evans\\onedrive\\documents\\competitions\\national ai student challenge 2025 - huawei track\\hdb-rag-chatbot\\rag_env\\lib\\site-packages (from httpx<1,>=0.23.0->langsmith<0.4,>=0.1.125->langchain-community) (1.0.7)\n",
      "Requirement already satisfied: h11<0.15,>=0.13 in c:\\users\\evans\\onedrive\\documents\\competitions\\national ai student challenge 2025 - huawei track\\hdb-rag-chatbot\\rag_env\\lib\\site-packages (from httpcore==1.*->httpx<1,>=0.23.0->langsmith<0.4,>=0.1.125->langchain-community) (0.14.0)\n",
      "Requirement already satisfied: jsonpointer>=1.9 in c:\\users\\evans\\onedrive\\documents\\competitions\\national ai student challenge 2025 - huawei track\\hdb-rag-chatbot\\rag_env\\lib\\site-packages (from jsonpatch<2.0,>=1.33->langchain-core<1.0.0,>=0.3.45->langchain-community) (3.0.0)\n",
      "Requirement already satisfied: annotated-types>=0.6.0 in c:\\users\\evans\\onedrive\\documents\\competitions\\national ai student challenge 2025 - huawei track\\hdb-rag-chatbot\\rag_env\\lib\\site-packages (from pydantic<3.0.0,>=2.7.4->langchain<1.0.0,>=0.3.21->langchain-community) (0.7.0)\n",
      "Requirement already satisfied: pydantic-core==2.27.2 in c:\\users\\evans\\onedrive\\documents\\competitions\\national ai student challenge 2025 - huawei track\\hdb-rag-chatbot\\rag_env\\lib\\site-packages (from pydantic<3.0.0,>=2.7.4->langchain<1.0.0,>=0.3.21->langchain-community) (2.27.2)\n",
      "Requirement already satisfied: mypy-extensions>=0.3.0 in c:\\users\\evans\\onedrive\\documents\\competitions\\national ai student challenge 2025 - huawei track\\hdb-rag-chatbot\\rag_env\\lib\\site-packages (from typing-inspect<1,>=0.4.0->dataclasses-json<0.7,>=0.5.7->langchain-community) (1.0.0)\n",
      "Requirement already satisfied: sniffio>=1.1 in c:\\users\\evans\\onedrive\\documents\\competitions\\national ai student challenge 2025 - huawei track\\hdb-rag-chatbot\\rag_env\\lib\\site-packages (from anyio->httpx<1,>=0.23.0->langsmith<0.4,>=0.1.125->langchain-community) (1.3.1)\n"
     ]
    },
    {
     "name": "stderr",
     "output_type": "stream",
     "text": [
      "\n",
      "[notice] A new release of pip is available: 24.3.1 -> 25.0.1\n",
      "[notice] To update, run: python.exe -m pip install --upgrade pip\n"
     ]
    }
   ],
   "source": [
    "# need to install ollama first\n",
    "!pip install langchain chromadb gradio ollama\n",
    "!pip install -U langchain-community\n",
    "# !ollama run deepseek-r1"
   ]
  },
  {
   "cell_type": "code",
   "execution_count": 2,
   "id": "0afaa622-c96e-46c7-97ac-498b9056c50b",
   "metadata": {},
   "outputs": [
    {
     "name": "stderr",
     "output_type": "stream",
     "text": [
      "C:\\Users\\evans\\OneDrive\\Documents\\Competitions\\National AI Student Challenge 2025 - Huawei Track\\hdb-rag-chatbot\\rag_env\\Lib\\site-packages\\tqdm\\auto.py:21: TqdmWarning: IProgress not found. Please update jupyter and ipywidgets. See https://ipywidgets.readthedocs.io/en/stable/user_install.html\n",
      "  from .autonotebook import tqdm as notebook_tqdm\n"
     ]
    }
   ],
   "source": [
    "import ollama\n",
    "import re\n",
    "import gradio as gr\n",
    "from concurrent.futures import ThreadPoolExecutor\n",
    "from langchain.text_splitter import RecursiveCharacterTextSplitter\n",
    "from langchain_community.document_loaders import TextLoader\n",
    "from langchain_community.embeddings import OllamaEmbeddings\n",
    "from chromadb.config import Settings\n",
    "from chromadb import Client\n",
    "from langchain.vectorstores import Chroma"
   ]
  },
  {
   "cell_type": "code",
   "execution_count": 3,
   "id": "9ed63f3a-1d7a-47c7-86b1-36f5d5fdbceb",
   "metadata": {},
   "outputs": [],
   "source": [
    "# Load text file into LangChain\n",
    "loader = TextLoader(\"hdb_faqs.txt\")\n",
    "documents = loader.load()\n"
   ]
  },
  {
   "cell_type": "code",
   "execution_count": 4,
   "id": "ae821e3f-819d-4e10-9644-d38e41c41dc8",
   "metadata": {},
   "outputs": [],
   "source": [
    "# Split the document into smaller chunks\n",
    "text_splitter = RecursiveCharacterTextSplitter(chunk_size=500, chunk_overlap=100)\n",
    "\n",
    "chunks = text_splitter.split_documents(documents)"
   ]
  },
  {
   "cell_type": "code",
   "execution_count": 5,
   "id": "0549fc5f-2a4b-4abc-969e-1bd86a5b3b0f",
   "metadata": {},
   "outputs": [
    {
     "name": "stderr",
     "output_type": "stream",
     "text": [
      "C:\\Users\\evans\\AppData\\Local\\Temp\\ipykernel_4804\\1029300437.py:2: LangChainDeprecationWarning: The class `OllamaEmbeddings` was deprecated in LangChain 0.3.1 and will be removed in 1.0.0. An updated version of the class exists in the :class:`~langchain-ollama package and should be used instead. To use it run `pip install -U :class:`~langchain-ollama` and import as `from :class:`~langchain_ollama import OllamaEmbeddings``.\n",
      "  embedding_function = OllamaEmbeddings(model=\"deepseek-r1\")  # by default, 7B parameter model\n"
     ]
    }
   ],
   "source": [
    "# Initialize Ollama embeddings using DeepSeek-R1\n",
    "embedding_function = OllamaEmbeddings(model=\"deepseek-r1\")  # by default, 7B parameter model\n",
    "# Parallelize embedding generation\n",
    "def generate_embedding(chunk):\n",
    "    return embedding_function.embed_query(chunk.page_content)\n",
    "with ThreadPoolExecutor() as executor:\n",
    "    embeddings = list(executor.map(generate_embedding, chunks))"
   ]
  },
  {
   "cell_type": "code",
   "execution_count": 6,
   "id": "b96dad29-77be-4f71-9fc8-d85810ff4326",
   "metadata": {},
   "outputs": [],
   "source": [
    "# Initialize Chroma client and create/reset the collection\n",
    "client = Client(Settings())\n",
    "collection = client.create_collection(name=\"hdb_faqs\")\n",
    "# Add documents and embeddings to Chroma\n",
    "for idx, chunk in enumerate(chunks):\n",
    "    collection.add(\n",
    "        documents=[chunk.page_content], \n",
    "        metadatas=[{'id': idx}], \n",
    "        embeddings=[embeddings[idx]], \n",
    "        ids=[str(idx)]  # Ensure IDs are strings\n",
    "    )"
   ]
  },
  {
   "cell_type": "code",
   "execution_count": 7,
   "id": "65436941-5c17-4d62-b32f-ca199d9fcaad",
   "metadata": {},
   "outputs": [],
   "source": [
    "# Initialize retriever using Ollama embeddings for queries\n",
    "vectorstore = Chroma.from_documents(documents=chunks, embedding=embedding_function)\n",
    "retriever = vectorstore.as_retriever()\n"
   ]
  },
  {
   "cell_type": "code",
   "execution_count": 8,
   "id": "6fece619-bfe0-48ec-858d-a94b90b12c61",
   "metadata": {},
   "outputs": [],
   "source": [
    "def retrieve_context(question):\n",
    "    # Retrieve relevant documents\n",
    "    results = retriever.invoke(question)\n",
    "    # Combine the retrieved content\n",
    "    context = \"\\n\\n\".join([doc.page_content for doc in results])\n",
    "    return context"
   ]
  },
  {
   "cell_type": "code",
   "execution_count": 9,
   "id": "ea66d890-98da-4896-81d7-6c2e60ec8175",
   "metadata": {},
   "outputs": [],
   "source": [
    "def query_deepseek(question, context):\n",
    "    # Format the input prompt\n",
    "    formatted_prompt = f\"Question: {question}\\n\\nContext: {context}\"\n",
    "    # Query DeepSeek-R1 using Ollama\n",
    "    response = ollama.chat(\n",
    "        model=\"deepseek-r1\",\n",
    "        messages=[{'role': 'user', 'content': formatted_prompt}]\n",
    "    )\n",
    "    # Clean and return the response\n",
    "    response_content = response['message']['content']\n",
    "    final_answer = re.sub(r'<think>.*?</think>', '', response_content, flags=re.DOTALL).strip()\n",
    "    return final_answer"
   ]
  },
  {
   "cell_type": "code",
   "execution_count": 10,
   "id": "ca36fddb-122c-4a5f-aeca-2f6b780ff09d",
   "metadata": {},
   "outputs": [
    {
     "name": "stdout",
     "output_type": "stream",
     "text": [
      "* Running on local URL:  http://127.0.0.1:7860\n",
      "\n",
      "To create a public link, set `share=True` in `launch()`.\n"
     ]
    },
    {
     "data": {
      "text/html": [
       "<div><iframe src=\"http://127.0.0.1:7860/\" width=\"100%\" height=\"500\" allow=\"autoplay; camera; microphone; clipboard-read; clipboard-write;\" frameborder=\"0\" allowfullscreen></iframe></div>"
      ],
      "text/plain": [
       "<IPython.core.display.HTML object>"
      ]
     },
     "metadata": {},
     "output_type": "display_data"
    },
    {
     "data": {
      "text/plain": []
     },
     "execution_count": 10,
     "metadata": {},
     "output_type": "execute_result"
    }
   ],
   "source": [
    "def ask_question(question):\n",
    "    # Retrieve context and generate an answer using RAG\n",
    "    context = retrieve_context(question)\n",
    "    answer = query_deepseek(question, context)\n",
    "    return answer\n",
    "# Set up the Gradio interface\n",
    "interface = gr.Interface(\n",
    "    fn=ask_question,\n",
    "    inputs=\"text\",\n",
    "    outputs=\"text\",\n",
    "    title=\"Low-Fidelity RAG Chatbot\",\n",
    "    description=\"Ask any question regarding HDB Municipal Services!\"\n",
    ")\n",
    "interface.launch()"
   ]
  }
 ],
 "metadata": {
  "kernelspec": {
   "display_name": "Python (rag_env)",
   "language": "python",
   "name": "rag_env"
  },
  "language_info": {
   "codemirror_mode": {
    "name": "ipython",
    "version": 3
   },
   "file_extension": ".py",
   "mimetype": "text/x-python",
   "name": "python",
   "nbconvert_exporter": "python",
   "pygments_lexer": "ipython3",
   "version": "3.12.8"
  }
 },
 "nbformat": 4,
 "nbformat_minor": 5
}
